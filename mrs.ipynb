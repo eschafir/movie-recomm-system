{
 "cells": [
  {
   "cell_type": "code",
   "execution_count": null,
   "metadata": {},
   "outputs": [],
   "source": [
    "import pandas as pd\n",
    "import numpy as np\n",
    "from sklearn import model_selection, preprocessing\n",
    "import torch\n",
    "import torch.nn as nn\n",
    "import matplotlib.pyplot as plt\n",
    "from torch.utils.data import Dataset, DataLoader\n",
    "import sys\n"
   ]
  },
  {
   "cell_type": "code",
   "execution_count": null,
   "metadata": {},
   "outputs": [],
   "source": [
    "# Use MPS if available, else use CPU\n",
    "device = torch.device(\"mps\" if torch.backends.mps.is_available() else \"cpu\")\n",
    "print(f\"Using device: {device}\")"
   ]
  },
  {
   "cell_type": "code",
   "execution_count": null,
   "metadata": {},
   "outputs": [],
   "source": [
    "# Load the data\n",
    "df = pd.read_csv('ml-latest-small/ratings.csv')\n",
    "\n",
    "df.head()\n"
   ]
  },
  {
   "cell_type": "code",
   "execution_count": null,
   "metadata": {},
   "outputs": [],
   "source": [
    "df.describe()"
   ]
  },
  {
   "cell_type": "code",
   "execution_count": null,
   "metadata": {},
   "outputs": [],
   "source": [
    "df.isnull().sum()\n"
   ]
  },
  {
   "cell_type": "code",
   "execution_count": null,
   "metadata": {},
   "outputs": [],
   "source": [
    "df.userId.nunique(), df.movieId.nunique()"
   ]
  },
  {
   "cell_type": "code",
   "execution_count": null,
   "metadata": {},
   "outputs": [],
   "source": [
    "df.rating.value_counts()"
   ]
  },
  {
   "cell_type": "code",
   "execution_count": null,
   "metadata": {},
   "outputs": [],
   "source": [
    "plt.figure(figsize=(8, 6))\n",
    "plt.hist(df.rating)\n",
    "plt.xlabel(\"Rating\")\n",
    "plt.ylabel(\"Count\")\n",
    "plt.title(\"Count of Ratings\")\n",
    "plt.show()"
   ]
  },
  {
   "cell_type": "markdown",
   "metadata": {},
   "source": [
    "## MovieLens Dataset"
   ]
  },
  {
   "cell_type": "code",
   "execution_count": null,
   "metadata": {},
   "outputs": [],
   "source": [
    "from torch.utils.data import Dataset\n",
    "import torch\n",
    "class MovieLensDataset(Dataset):\n",
    "\n",
    "    \"\"\"\n",
    "    The Movie Lens Dataset class. This class prepares the dataset for training and validation.\n",
    "    \"\"\"\n",
    "\n",
    "    def __init__(self, users, movies, ratings):\n",
    "\n",
    "        \"\"\"\n",
    "        Args:\n",
    "            users (list): The list of users.\n",
    "            movies (list): The list of movies.\n",
    "            ratings (list): The list of ratings.\n",
    "        \"\"\"\n",
    "        \n",
    "        self.users = users\n",
    "        self.movies = movies\n",
    "        self.ratings = ratings\n",
    "\n",
    "    def __len__(self):\n",
    "        return len(self.users)\n",
    "\n",
    "    def __getitem__(self, idx):\n",
    "        \"\"\"\n",
    "        Retrieves a sample from the dataset at the specified index.\n",
    "        \"\"\"\n",
    "        user = self.users[idx]\n",
    "        movie = self.movies[idx]\n",
    "        rating = self.ratings[idx]\n",
    "\n",
    "        return {\n",
    "            \"user\": torch.tensor(user, dtype=torch.long),\n",
    "            \"movie\": torch.tensor(movie, dtype=torch.long),\n",
    "            \"rating\": torch.tensor(rating, dtype=torch.float)\n",
    "        }"
   ]
  },
  {
   "cell_type": "markdown",
   "metadata": {},
   "source": [
    "## Movie Recommendation System"
   ]
  },
  {
   "cell_type": "code",
   "execution_count": null,
   "metadata": {},
   "outputs": [],
   "source": [
    "\n",
    "class MovieRecommendationSystem(nn.Module):\n",
    "    \"\"\"\n",
    "    The Movie Recommendation System class. This class implements the movie recommendation system.\n",
    "    \"\"\"\n",
    "\n",
    "    def __init__(self, num_users, num_movies, embedding_size=256, hidden_dim=256, dropout_rate=0.2):\n",
    "        \"\"\"\n",
    "        Args:\n",
    "            num_users (int): The number of users.\n",
    "            num_movies (int): The number of movies.\n",
    "            embedding_dim (int): The dimension of the embedding.\n",
    "            hidden_dim (int): The dimension of the hidden layer.\n",
    "        \"\"\"\n",
    "        super(MovieRecommendationSystem, self).__init__()\n",
    "        self.num_users = num_users\n",
    "        self.num_movies = num_movies\n",
    "        self.embedding_size = embedding_size\n",
    "        self.hidden_dim = hidden_dim\n",
    "\n",
    "        # Embeddings layers\n",
    "        self.user_embedding = nn.Embedding(num_embeddings = self.num_users, embedding_dim=self.embedding_size)\n",
    "        self.movie_embedding = nn.Embedding(num_embeddings = self.num_movies, embedding_dim=self.embedding_size)\n",
    "\n",
    "        # Hidden layers\n",
    "        self.fc1 = nn.Linear(2 * self.embedding_size, self.hidden_dim)\n",
    "        self.fc2 = nn.Linear(self.hidden_dim, 1)\n",
    "\n",
    "        # Dropout layer\n",
    "        self.dropout = nn.Dropout(p=dropout_rate)\n",
    "        \n",
    "        # Activation function\n",
    "        self.relu = nn.ReLU()\n",
    "\n",
    "    def forward(self, users, movies):\n",
    "        \"\"\"\n",
    "        Forward pass of the movie recommendation system.\n",
    "        \"\"\"\n",
    "        user_embedding = self.user_embedding(users)\n",
    "        movie_embedding = self.movie_embedding(movies)\n",
    "\n",
    "        # Concatenate the user and movie embeddings\n",
    "        combined = torch.cat([user_embedding, movie_embedding], dim=1)\n",
    "\n",
    "        # Pass through the hidden layers with ReLU activation and dropout\n",
    "        x = self.fc1(combined)\n",
    "        x = self.relu(x)\n",
    "        x = self.dropout(x)\n",
    "\n",
    "        # Output layer\n",
    "        output = self.fc2(x)\n",
    "\n",
    "        return output"
   ]
  },
  {
   "cell_type": "markdown",
   "metadata": {},
   "source": [
    "## Data Preprocessing and Encoding"
   ]
  },
  {
   "cell_type": "code",
   "execution_count": null,
   "metadata": {},
   "outputs": [],
   "source": [
    "from sklearn import preprocessing\n",
    "\n",
    "le_user = preprocessing.LabelEncoder()\n",
    "le_movie = preprocessing.LabelEncoder()\n",
    "df.userId = le_user.fit_transform(df.userId.values)\n",
    "df.movieId = le_movie.fit_transform(df.movieId.values)\n",
    "\n",
    "df_train, df_val = model_selection.train_test_split(\n",
    "    df, test_size=0.1, random_state=3, stratify=df.rating.values\n",
    ")\n",
    "\n",
    "train_dataset = MovieLensDataset(\n",
    "    users=df_train.userId.values,\n",
    "    movies=df_train.movieId.values,\n",
    "    ratings=df_train.rating.values,\n",
    ")\n",
    "\n",
    "valid_dataset = MovieLensDataset(\n",
    "    users=df_val.userId.values,\n",
    "    movies=df_val.movieId.values,\n",
    "    ratings=df_val.rating.values,\n",
    ")"
   ]
  },
  {
   "cell_type": "markdown",
   "metadata": {},
   "source": [
    "## Initializing Data Loaders"
   ]
  },
  {
   "cell_type": "code",
   "execution_count": null,
   "metadata": {},
   "outputs": [],
   "source": [
    "from torch.utils.data import DataLoader\n",
    "\n",
    "BATCH_SIZE = 32\n",
    "\n",
    "train_loader = DataLoader(\n",
    "    train_dataset, batch_size=BATCH_SIZE, shuffle=True, num_workers=8\n",
    ")\n",
    "val_loader = DataLoader(\n",
    "    valid_dataset, batch_size=BATCH_SIZE, shuffle=True, num_workers=8\n",
    ")"
   ]
  },
  {
   "cell_type": "markdown",
   "metadata": {},
   "source": [
    "## Training the Model"
   ]
  },
  {
   "cell_type": "code",
   "execution_count": null,
   "metadata": {},
   "outputs": [],
   "source": [
    "recommendation_model = MovieRecommendationSystem(\n",
    "    num_users=len(le_user.classes_),\n",
    "    num_movies=len(le_movie.classes_),\n",
    "    embedding_size=64,\n",
    "    hidden_dim=128,\n",
    "    dropout_rate=0.1,\n",
    ").to(device)\n",
    "\n",
    "optimizer = torch.optim.Adam(recommendation_model.parameters(), lr=1e-3)\n",
    "loss_func = nn.MSELoss()"
   ]
  },
  {
   "cell_type": "code",
   "execution_count": null,
   "metadata": {},
   "outputs": [],
   "source": [
    "EPOCHS = 2\n",
    "\n",
    "# Function to log progress\n",
    "def log_progress(epoch, step, total_loss, log_progress_step, data_size, losses):\n",
    "    avg_loss = total_loss / log_progress_step\n",
    "    sys.stderr.write(\n",
    "        f\"\\r{epoch+1:02d}/{EPOCHS:02d} | Step: {step}/{data_size} | Avg Loss: {avg_loss:<6.9f}\"\n",
    "    )\n",
    "    sys.stderr.flush()\n",
    "    losses.append(avg_loss)"
   ]
  },
  {
   "cell_type": "code",
   "execution_count": null,
   "metadata": {},
   "outputs": [],
   "source": [
    "total_loss = 0\n",
    "log_progress_step = 100\n",
    "losses = []\n",
    "train_dataset_size = len(train_dataset)\n",
    "print(f\"Training on {train_dataset_size} samples...\")\n",
    "\n",
    "recommendation_model.train()\n",
    "for e in range(EPOCHS):\n",
    "    step_count = 0  # Reset step count at the beginning of each epoch\n",
    "    for i, train_data in enumerate(train_loader):\n",
    "        output = recommendation_model(\n",
    "            train_data[\"users\"].to(device), train_data[\"movies\"].to(device)\n",
    "        )\n",
    "        # Reshape the model output to match the target's shape\n",
    "        output = output.squeeze()  # Removes the singleton dimension\n",
    "        ratings = (\n",
    "            train_data[\"ratings\"].to(torch.float32).to(device)\n",
    "        )  # Assuming ratings is already 1D\n",
    "\n",
    "        loss = loss_func(output, ratings)\n",
    "        total_loss += loss.sum().item()\n",
    "        optimizer.zero_grad()\n",
    "        loss.backward()\n",
    "        optimizer.step()\n",
    "\n",
    "        # Increment step count by the actual size of the batch\n",
    "        step_count += len(train_data[\"users\"])\n",
    "\n",
    "        # Check if it's time to log progress\n",
    "        if (\n",
    "            step_count % log_progress_step == 0 or i == len(train_loader) - 1\n",
    "        ):  # Log at the end of each epoch\n",
    "            log_progress(\n",
    "                e, step_count, total_loss, log_progress_step, train_dataset_size, losses\n",
    "            )\n",
    "            total_loss = 0"
   ]
  }
 ],
 "metadata": {
  "kernelspec": {
   "display_name": "mps",
   "language": "python",
   "name": "python3"
  },
  "language_info": {
   "codemirror_mode": {
    "name": "ipython",
    "version": 3
   },
   "file_extension": ".py",
   "mimetype": "text/x-python",
   "name": "python",
   "nbconvert_exporter": "python",
   "pygments_lexer": "ipython3",
   "version": "3.10.14"
  }
 },
 "nbformat": 4,
 "nbformat_minor": 2
}
